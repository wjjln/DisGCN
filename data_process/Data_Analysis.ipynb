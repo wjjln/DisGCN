{
 "cells": [
  {
   "cell_type": "code",
   "execution_count": 1,
   "metadata": {},
   "outputs": [],
   "source": [
    "import numpy as np\n",
    "from setproctitle import setproctitle\n",
    "setproctitle('notebook@linian')\n",
    "import networkx as nx\n",
    "from collections import defaultdict\n",
    "import matplotlib.pyplot as plt\n",
    "%matplotlib inline\n",
    "import random\n",
    "from multiprocessing import Pool\n",
    "from time import time\n",
    "from collections import deque\n",
    "from sklearn.model_selection import train_test_split\n",
    "from sklearn.preprocessing import LabelEncoder\n",
    "import pandas as pd\n",
    "import os\n",
    "import re\n",
    "from pandarallel import pandarallel\n",
    "from copy import copy"
   ]
  },
  {
   "cell_type": "code",
   "execution_count": 2,
   "metadata": {},
   "outputs": [],
   "source": [
    "path = '../data/BeiBei2/'\n",
    "records = pd.concat([pd.read_csv(path+file) for file in os.listdir(path) if 'non' in file and 'add' not in file])\n",
    "share = pd.concat([pd.read_csv(path+file) for file in os.listdir(path) if 'ref' in file and 'non' not in file and 'add' not in file])\n",
    "\n",
    "records_add = pd.read_csv(path+'nonref_add.csv')\n",
    "records_add['info'] = records_add['info'].apply(lambda x: eval(x))\n",
    "records_add = records_add.explode('info')\n",
    "records_add.rename(columns={'info':'iid'}, inplace=True)\n",
    "records = pd.concat([records, records_add])\n",
    "records = records.dropna(axis=0,how='any')\n",
    "records = records.astype('int32')\n",
    "\n",
    "share_add = pd.read_csv(path+'ref_add.csv')\n",
    "share_add['info'] = share_add['info'].apply(lambda x: eval(x))\n",
    "share_add = share_add.explode('info')\n",
    "share_add[['ruid', 'iid', 'indicators']] = pd.DataFrame(share_add['info'].tolist(), index=share_add.index)   \n",
    "share_add = share_add.drop(columns=['info'])\n",
    "share_add = share_add[share_add['ruid'].str.contains('^[0-9]+$', regex=True)]\n",
    "share = pd.concat([share, share_add])\n",
    "share = share.dropna(axis=0,how='any')\n",
    "share = share.astype('int32')"
   ]
  },
  {
   "cell_type": "code",
   "execution_count": 4,
   "metadata": {},
   "outputs": [
    {
     "name": "stdout",
     "output_type": "stream",
     "text": [
      "1408060 1699939 161808\n"
     ]
    }
   ],
   "source": [
    "print(len(records), len(share), len(share[share['indicators']==1]))"
   ]
  },
  {
   "cell_type": "code",
   "execution_count": 37,
   "metadata": {},
   "outputs": [
    {
     "name": "stdout",
     "output_type": "stream",
     "text": [
      "INFO: Pandarallel will run on 16 workers.\n",
      "INFO: Pandarallel will use Memory file system to transfer data between the main process and workers.\n",
      "52428 40452\n",
      "1068610 1410463\n",
      "39395 32512\n",
      "902689 704921\n",
      "33059 26434\n",
      "792161 352115\n",
      "27031 20206\n",
      "670014 175790\n"
     ]
    }
   ],
   "source": [
    "def df_unique(df):\n",
    "    s = set()\n",
    "    for d in df:\n",
    "        s = s.union(set(np.unique(np.array(df, dtype=np.int32)).tolist()))\n",
    "    return s\n",
    "tmp_records, tmp_share = copy(records), copy(share)\n",
    "pandarallel.initialize(nb_workers=16)\n",
    "for k in range(4):\n",
    "    records_u, share_u = df_unique([tmp_records['uid']]), df_unique([tmp_share['uid'], tmp_share['ruid']])\n",
    "    records_i, share_i = df_unique([tmp_records['iid']]), df_unique([tmp_share['iid']])\n",
    "    U = records_u.intersection(share_u)\n",
    "    I = records_i.intersection(share_i)\n",
    "    print(len(U), len(I))\n",
    "    tmp_records = tmp_records[tmp_records.parallel_apply(lambda row: True if row['uid'] in U and row['iid'] in I else False, axis=1)]\n",
    "    tmp_share = tmp_share[tmp_share.parallel_apply(lambda row: True if row['uid'] in U and row['ruid'] in U and row['iid'] in I else False, axis=1)]\n",
    "    print(len(tmp_records), len(tmp_share))\n",
    "    if k < 3:\n",
    "        tmp_share = tmp_share.sample(frac=0.5, random_state=123)"
   ]
  },
  {
   "cell_type": "code",
   "execution_count": 4,
   "metadata": {},
   "outputs": [
    {
     "name": "stdout",
     "output_type": "stream",
     "text": [
      "88002 97459 133033\n",
      "45586 41008 46142\n"
     ]
    }
   ],
   "source": [
    "uf_u = np.unique(np.array(share[['uid']], dtype=np.int32))\n",
    "uf_f = np.unique(np.array(share[['ruid']], dtype=np.int32))\n",
    "uf = np.unique(np.concatenate([uf_u, uf_f], 0))\n",
    "i = np.unique(np.array(share[['iid']], dtype=np.int32))\n",
    "u = np.unique(np.array(records[['uid']], dtype=np.int32))\n",
    "I = np.unique(np.array(records[['iid']], dtype=np.int32))\n",
    "print(len(u), len(uf), len(np.unique(np.concatenate([uf, u], 0))))\n",
    "print(len(I), len(i), len(np.unique(np.concatenate([I, i], 0))))"
   ]
  },
  {
   "cell_type": "code",
   "execution_count": 5,
   "metadata": {},
   "outputs": [
    {
     "name": "stdout",
     "output_type": "stream",
     "text": [
      "88002 22021 89069\n",
      "88002 22051 96409\n",
      "88002 32476 97250\n",
      "45586 21860 45683\n"
     ]
    }
   ],
   "source": [
    "share_buy = share[share['indicators']==1]\n",
    "buy_u = np.unique(np.array(share_buy[['uid']], dtype=np.int32))\n",
    "buy_f = np.unique(np.array(share_buy[['ruid']], dtype=np.int32))\n",
    "buy_uf = np.unique(np.concatenate([buy_u, buy_f], 0))\n",
    "buy_i = np.unique(np.array(share_buy[['iid']], dtype=np.int32))\n",
    "print(len(u), len(buy_u), len(np.unique(np.concatenate([buy_u, u], 0))))\n",
    "print(len(u), len(buy_f), len(np.unique(np.concatenate([buy_f, u], 0))))\n",
    "print(len(u), len(buy_uf), len(np.unique(np.concatenate([buy_uf, u], 0))))\n",
    "print(len(I), len(buy_i), len(np.unique(np.concatenate([I, buy_i], 0))))"
   ]
  },
  {
   "cell_type": "code",
   "execution_count": 63,
   "metadata": {},
   "outputs": [
    {
     "name": "stdout",
     "output_type": "stream",
     "text": [
      "88002 53126 90110\n",
      "88002 78848 132075\n"
     ]
    }
   ],
   "source": [
    "print(len(u), len(uf_u), len(np.unique(np.concatenate([uf_u, u], 0))))\n",
    "print(len(u), len(uf_f), len(np.unique(np.concatenate([uf_f, u], 0))))"
   ]
  },
  {
   "cell_type": "code",
   "execution_count": 7,
   "metadata": {},
   "outputs": [
    {
     "name": "stdout",
     "output_type": "stream",
     "text": [
      "INFO: Pandarallel will run on 8 workers.\n",
      "INFO: Pandarallel will use Memory file system to transfer data between the main process and workers.\n"
     ]
    },
    {
     "data": {
      "text/plain": [
       "558647"
      ]
     },
     "execution_count": 7,
     "metadata": {},
     "output_type": "execute_result"
    }
   ],
   "source": [
    "def filter_fun(row):\n",
    "    if row['uid'] in buy_uf and row['iid'] in buy_i:\n",
    "        return True\n",
    "    else:\n",
    "        return False\n",
    "pandarallel.initialize(nb_workers=8)\n",
    "len(records[records.parallel_apply(filter_fun, axis=1)])"
   ]
  },
  {
   "cell_type": "code",
   "execution_count": 2,
   "metadata": {},
   "outputs": [],
   "source": [
    "import sys \n",
    "sys.path.append(\"..\") \n",
    "from compute_metric import compute_metric\n",
    "import torch"
   ]
  },
  {
   "cell_type": "code",
   "execution_count": 8,
   "metadata": {},
   "outputs": [
    {
     "data": {
      "text/plain": [
       "{'Recall': [0.74999999625],\n",
       " 'NDCG': [0.6220384805094975],\n",
       " 'MRR': [0.74999999625]}"
      ]
     },
     "execution_count": 8,
     "metadata": {},
     "output_type": "execute_result"
    }
   ],
   "source": [
    "scores = torch.Tensor([[1.2, -0.1, 0.5, 0.6], [0.2, -0.1, -0.5, 0.6]])\n",
    "ground_truth = torch.Tensor([[1, 0, 1, 0], [1, 0, 0, 0]])\n",
    "class conf_class:\n",
    "    topk = [2]\n",
    "conf = conf_class\n",
    "compute_metric(scores, ground_truth, conf)"
   ]
  },
  {
   "cell_type": "code",
   "execution_count": 3,
   "metadata": {},
   "outputs": [],
   "source": [
    "pre_emb = np.load('../embedding/BeiBei/BeiBei_bpr_reg0.01_lr0.001_epoch0+1000_dim64_fs-neg10.ckpt.npz', encoding='latin1')\n",
    "user_embedding, item_embedding = pre_emb['user_embedding'], pre_emb['item_embedding']"
   ]
  },
  {
   "cell_type": "code",
   "execution_count": 6,
   "metadata": {},
   "outputs": [
    {
     "data": {
      "text/plain": [
       "array([2.9690592, 2.640359 , 2.6007133], dtype=float32)"
      ]
     },
     "execution_count": 6,
     "metadata": {},
     "output_type": "execute_result"
    }
   ],
   "source": [
    "np.linalg.norm(user_embedding[:3], axis=-1)"
   ]
  },
  {
   "cell_type": "code",
   "execution_count": 10,
   "metadata": {},
   "outputs": [],
   "source": [
    "scores = user_embedding[:4096]@item_embedding.transpose()"
   ]
  },
  {
   "cell_type": "code",
   "execution_count": 11,
   "metadata": {},
   "outputs": [
    {
     "data": {
      "text/plain": [
       "array([[-0.42529726,  1.2020683 , -1.1787714 ],\n",
       "       [-0.65158635, -0.23876396, -0.07779285],\n",
       "       [-1.2142563 ,  0.50756305, -1.5263298 ]], dtype=float32)"
      ]
     },
     "execution_count": 11,
     "metadata": {},
     "output_type": "execute_result"
    }
   ],
   "source": [
    "scores[:3, :3]"
   ]
  },
  {
   "cell_type": "markdown",
   "metadata": {},
   "source": [
    "# Find 3-cliques\n",
    "- Yelp: ~2900; Ciao: ~1200; Epinions: 1100"
   ]
  },
  {
   "cell_type": "code",
   "execution_count": 2,
   "metadata": {},
   "outputs": [],
   "source": [
    "data_name = 'BeiBei'\n",
    "train_path = '../data/{0}/{0}.train.rating'.format(data_name)\n",
    "social_path = '../data/{0}/{0}_all.links'.format(data_name)\n",
    "# edge_list = []\n",
    "train_dict, friend_dict, item_dict = defaultdict(set), defaultdict(set), defaultdict(set)\n",
    "positive_data, positive_link = [], []\n",
    "with open(train_path) as f:\n",
    "    for x in f.readlines():\n",
    "        u, i = x.rstrip('\\n').split('\\t')[:2]\n",
    "        u, i = int(u), int(i)\n",
    "        positive_data.append([u, i])\n",
    "        train_dict[u].add(i)\n",
    "        item_dict[i].add(u)\n",
    "positive_data = np.array(positive_data)\n",
    "#         edge_list.append(('u'+str(u), 'i'+str(i)))\n",
    "with open(social_path) as f:\n",
    "    for x in f.readlines():\n",
    "        u, f = x.rstrip('\\n').split('\\t')[:2]\n",
    "        u, f = int(u), int(f)\n",
    "        friend_dict[u].add(f)\n",
    "        friend_dict[f].add(u)\n",
    "        positive_link.append([u, f])\n",
    "positive_link = np.array(positive_link)\n",
    "positive_link = np.unique(np.concatenate([positive_link, np.fliplr(positive_link)], 0), axis=0)\n",
    "#         edge_list.append(('u'+str(u), 'u'+str(f)))\n",
    "# print(len(edge_list))"
   ]
  },
  {
   "cell_type": "code",
   "execution_count": 3,
   "metadata": {},
   "outputs": [],
   "source": [
    "ufi = []\n",
    "for u, f in positive_link:\n",
    "    for i in train_dict[u].intersection(train_dict[f]):\n",
    "        ufi.append((u, f, i))\n",
    "# for u in friend_dict:\n",
    "#     friend = np.array(list(friend_dict[u]))\n",
    "#     tmp = [len(train_dict[u].intersection(train_dict[f])) for f in friend if len(train_dict[u].intersection(train_dict[f])) > 0]\n",
    "#     if len(tmp) > 10:\n",
    "#         tmp_idx = np.argsort(tmp)[-10:]\n",
    "#         friend = friend[tmp_idx]\n",
    "#     for f in friend:\n",
    "#         for i in train_dict[u].intersection(train_dict[f]):\n",
    "#             ufi.append((u, f, i))\n",
    "with open('../data/{0}/{0}_ufi.links'.format(data_name), 'w') as file:\n",
    "    for u, f, i in ufi:\n",
    "        file.write(f'{u}\\t{f}\\t{i}\\n')"
   ]
  },
  {
   "cell_type": "code",
   "execution_count": 11,
   "metadata": {},
   "outputs": [
    {
     "data": {
      "text/plain": [
       "(2, 5, 1)"
      ]
     },
     "execution_count": 11,
     "metadata": {},
     "output_type": "execute_result"
    }
   ],
   "source": [
    "x = np.zeros([5, 1])\n",
    "np.tile(np.expand_dims(x, 0), [2, 1, 1]).shape"
   ]
  },
  {
   "cell_type": "code",
   "execution_count": 4,
   "metadata": {},
   "outputs": [
    {
     "name": "stdout",
     "output_type": "stream",
     "text": [
      "71285 60699 0.8514975099950901\n"
     ]
    }
   ],
   "source": [
    "val_len, biased_len = 0, 0\n",
    "with open('../data/{0}/{0}.val.rating'.format(data_name)) as f:\n",
    "    for x in f.readlines():\n",
    "        u, i = x.rstrip('\\n').split('\\t')[:2]\n",
    "        u, i = int(u), int(i)\n",
    "        if len(friend_dict[u]) > 0:\n",
    "            biased_len += 1\n",
    "        val_len += 1\n",
    "print(val_len, biased_len, 1.0*biased_len/val_len)"
   ]
  },
  {
   "cell_type": "code",
   "execution_count": 6,
   "metadata": {},
   "outputs": [
    {
     "name": "stdout",
     "output_type": "stream",
     "text": [
      "0.7419626380030434\n"
     ]
    }
   ],
   "source": [
    "biased_len = 0\n",
    "for u in friend_dict:\n",
    "    if len(friend_dict[u]) > 0:\n",
    "        biased_len += 1\n",
    "print(biased_len*1.0/30887)"
   ]
  },
  {
   "cell_type": "code",
   "execution_count": null,
   "metadata": {},
   "outputs": [],
   "source": [
    "num_friend = []\n",
    "for u in friend_dict:\n",
    "    num_friend.append(len(friend_dict[u]))"
   ]
  },
  {
   "cell_type": "code",
   "execution_count": 72,
   "metadata": {},
   "outputs": [
    {
     "data": {
      "text/plain": [
       "(array([6492., 3390., 4316., 6324., 1293.,  885.,  137.]),\n",
       " array([  0,   3,   5,  10,  50, 100, 300, 500]),\n",
       " <a list of 1 Patch objects>)"
      ]
     },
     "execution_count": 72,
     "metadata": {},
     "output_type": "execute_result"
    },
    {
     "data": {
      "image/png": "[encoded data removed]",
      "text/plain": [
       "<Figure size 432x288 with 1 Axes>"
      ]
     },
     "metadata": {
      "needs_background": "light"
     },
     "output_type": "display_data"
    }
   ],
   "source": [
    "plt.hist(num_friend, [0, 3, 5, 10, 50, 100, 300, 500], histtype='stepfilled', alpha=0.75)"
   ]
  },
  {
   "cell_type": "code",
   "execution_count": 4,
   "metadata": {},
   "outputs": [],
   "source": [
    "G = nx.Graph()\n",
    "G.add_edges_from(edge_list)\n",
    "# cliques = nx.find_cliques(G)"
   ]
  },
  {
   "cell_type": "code",
   "execution_count": 59,
   "metadata": {},
   "outputs": [
    {
     "name": "stdout",
     "output_type": "stream",
     "text": [
      "1142\n"
     ]
    }
   ],
   "source": [
    "import itertools\n",
    "cliques3 = set(sum([list(itertools.combinations(set(clq), 3)) for clq in cliques if len(clq)>=3],[]))\n",
    "print(len(cliques3))"
   ]
  },
  {
   "cell_type": "markdown",
   "metadata": {},
   "source": [
    "# Find 2-path"
   ]
  },
  {
   "cell_type": "code",
   "execution_count": 4,
   "metadata": {},
   "outputs": [],
   "source": [
    "candidate_item = defaultdict(set)\n",
    "for u in train_dict.keys():\n",
    "    candidate_item[u] = candidate_item[u].union(train_dict[u])\n",
    "    for f in friend_dict[u]:\n",
    "        candidate_item[u] = candidate_item[u].union(train_dict[f])"
   ]
  },
  {
   "cell_type": "code",
   "execution_count": 5,
   "metadata": {},
   "outputs": [],
   "source": [
    "two_path, two_u = dict(), dict()\n",
    "for u in train_dict.keys():\n",
    "    tmp, tmp_u = dict(), dict()\n",
    "    for i in candidate_item[u]:\n",
    "        x = 0\n",
    "        friends = set()\n",
    "        for f in friend_dict[u]:\n",
    "            if i in train_dict[f]:\n",
    "                x += 1\n",
    "                friends.add(f)\n",
    "        tmp[i] = x\n",
    "        tmp_u[i] = friends\n",
    "    two_path[u] = tmp\n",
    "    two_u[u] = tmp_u\n",
    "# np.save('../data/{}/num_friend_interaction.npy'.format(data_name), two_path)\n",
    "num_friend_interaction = two_path\n",
    "num_friend_interaction_array = dict()\n",
    "for u in num_friend_interaction.keys():\n",
    "    tmp = num_friend_interaction[u]\n",
    "    num_friend_interaction_array[u] = np.concatenate([np.array(tmp.keys()).reshape([1, -1]), np.array(tmp.values()).reshape([1, -1])], 0)\n",
    "np.save('../data/{}/num_friend_interaction.npy'.format(data_name), num_friend_interaction_array)"
   ]
  },
  {
   "cell_type": "code",
   "execution_count": 6,
   "metadata": {},
   "outputs": [],
   "source": [
    "candidate_user = defaultdict(set)\n",
    "for u in friend_dict.keys():\n",
    "    candidate_user[u] = candidate_user[u].union(friend_dict[u])\n",
    "    for i in train_dict[u]:\n",
    "        candidate_user[u] = candidate_user[u].union(item_dict[i])"
   ]
  },
  {
   "cell_type": "code",
   "execution_count": 7,
   "metadata": {},
   "outputs": [],
   "source": [
    "two_path_iu, two_i = dict(), dict()\n",
    "for u in friend_dict.keys():\n",
    "    tmp, tmp_i = dict(), dict()\n",
    "    for f in candidate_user[u]:\n",
    "        x = 0\n",
    "        items = set()\n",
    "        for i in train_dict[u]:\n",
    "            if f in item_dict[i]:\n",
    "                x += 1\n",
    "                items.add(i)\n",
    "        tmp[f] = x\n",
    "        tmp_i[f] = items\n",
    "    two_path_iu[u] = tmp\n",
    "    two_i[u] = tmp_i\n",
    "np.save('../data/{}/num_item_social.npy'.format(data_name), two_path_iu)"
   ]
  },
  {
   "cell_type": "code",
   "execution_count": 23,
   "metadata": {},
   "outputs": [
    {
     "data": {
      "text/plain": [
       "(array([2477668., 1412818.,  670774.,  175392.,   41985.]),\n",
       " array([  2,   3,   5,  10,  20, 200]),\n",
       " <a list of 5 Patch objects>)"
      ]
     },
     "execution_count": 23,
     "metadata": {},
     "output_type": "execute_result"
    },
    {
     "data": {
      "image/png": "[encoded data removed]",
      "text/plain": [
       "<Figure size 432x288 with 1 Axes>"
      ]
     },
     "metadata": {
      "needs_background": "light"
     },
     "output_type": "display_data"
    }
   ],
   "source": [
    "comm = []\n",
    "for u in two_path.keys():\n",
    "    tmp = [x[1] for x in two_path[u].items()]\n",
    "    comm.extend(tmp)\n",
    "plt.hist(comm, [2, 3, 5, 10, 20, 200])"
   ]
  },
  {
   "cell_type": "markdown",
   "metadata": {},
   "source": [
    "# prepare for DISGCN"
   ]
  },
  {
   "cell_type": "code",
   "execution_count": 14,
   "metadata": {},
   "outputs": [],
   "source": [
    "first_item_idx, first_item_f, first_user_item = [], [], []\n",
    "idx = 0\n",
    "for u in train_dict:\n",
    "    for i in train_dict[u]:\n",
    "        first_user_item.append([u, i])\n",
    "        for f in two_u[u][i]:\n",
    "            if f != u:\n",
    "                first_item_f.append([u, i, f])\n",
    "                first_item_idx.append(idx)\n",
    "        idx += 1\n",
    "first_item_idx, first_item_f, first_user_item = \\\n",
    "np.array(first_item_idx), np.array(first_item_f), np.array(first_user_item)"
   ]
  },
  {
   "cell_type": "code",
   "execution_count": 15,
   "metadata": {},
   "outputs": [],
   "source": [
    "second_item_idx, second_item_f, second_user_item = [], [], []\n",
    "idx = 0\n",
    "for u in candidate_item:\n",
    "    for i in candidate_item[u]:\n",
    "        if i not in train_dict[u] and two_path[u][i] >= 5:\n",
    "            second_user_item.append([u, i])\n",
    "            for f in two_u[u][i]:\n",
    "                if f != u:\n",
    "                    second_item_f.append([u, i, f])\n",
    "                    second_item_idx.append(idx)\n",
    "            idx += 1\n",
    "second_item_idx, second_item_f, second_user_item = \\\n",
    "np.array(second_item_idx), np.array(second_item_f), np.array(second_user_item)"
   ]
  },
  {
   "cell_type": "code",
   "execution_count": 16,
   "metadata": {},
   "outputs": [
    {
     "name": "stdout",
     "output_type": "stream",
     "text": [
      "((587360, 2), (833472, 2))\n"
     ]
    }
   ],
   "source": [
    "print(first_user_item.shape, second_user_item.shape)"
   ]
  },
  {
   "cell_type": "code",
   "execution_count": 20,
   "metadata": {},
   "outputs": [],
   "source": [
    "np.savez('../data/{}/first_item.npz'.format(data_name), first_item_idx=first_item_idx, \\\n",
    "         first_item_f=first_item_f, first_user_item=first_user_item)\n",
    "np.savez('../data/{}/second_item.npz'.format(data_name), second_item_idx=second_item_idx, \\\n",
    "         second_item_f=second_item_f, second_user_item=second_user_item)"
   ]
  },
  {
   "cell_type": "code",
   "execution_count": 17,
   "metadata": {},
   "outputs": [],
   "source": [
    "first_friend_idx, first_friend_i, first_user_friend= [], [], []\n",
    "idx = 0\n",
    "for u in friend_dict:\n",
    "    for f in friend_dict[u]:\n",
    "        first_user_friend.append([u, f])\n",
    "        for i in two_i[u][f]:\n",
    "            first_friend_i.append([u, f, i])\n",
    "            first_friend_idx.append(idx)\n",
    "        idx += 1\n",
    "first_friend_idx, first_friend_i, first_user_friend = \\\n",
    "np.array(first_friend_idx), np.array(first_friend_i), np.array(first_user_friend)"
   ]
  },
  {
   "cell_type": "code",
   "execution_count": 18,
   "metadata": {},
   "outputs": [],
   "source": [
    "second_friend_idx, second_friend_i, second_user_friend= [], [], []\n",
    "idx = 0\n",
    "for u in candidate_user:\n",
    "    for f in candidate_user[u]:\n",
    "        if f not in friend_dict[u] and two_path_iu[u][f] >= 5:\n",
    "            second_user_friend.append([u, f])\n",
    "            for i in two_i[u][f]:\n",
    "                second_friend_i.append([u, f, i])\n",
    "                second_friend_idx.append(idx)\n",
    "            idx += 1\n",
    "second_friend_idx, second_friend_i, second_user_friend = \\\n",
    "np.array(second_friend_idx), np.array(second_friend_i), np.array(second_user_friend)"
   ]
  },
  {
   "cell_type": "code",
   "execution_count": 19,
   "metadata": {},
   "outputs": [
    {
     "name": "stdout",
     "output_type": "stream",
     "text": [
      "((531066, 2), (598913, 2))\n"
     ]
    }
   ],
   "source": [
    "print(first_user_friend.shape, second_user_friend.shape)"
   ]
  },
  {
   "cell_type": "code",
   "execution_count": 21,
   "metadata": {},
   "outputs": [],
   "source": [
    "np.savez('../data/{}/first_friend.npz'.format(data_name), first_friend_idx=first_friend_idx, \\\n",
    "         first_friend_i=first_friend_i, first_user_friend=first_user_friend)\n",
    "np.savez('../data/{}/second_friend.npz'.format(data_name), second_friend_idx=second_friend_idx, \\\n",
    "         second_friend_i=second_friend_i, second_user_friend=second_user_friend)"
   ]
  },
  {
   "cell_type": "code",
   "execution_count": 88,
   "metadata": {},
   "outputs": [
    {
     "data": {
      "text/plain": [
       "array([2.33333333, 3.33333333, 4.33333333])"
      ]
     },
     "execution_count": 88,
     "metadata": {},
     "output_type": "execute_result"
    }
   ],
   "source": [
    "np.mean([[1, 2, 3], [2, 3, 4], [4, 5, 6]], 0)"
   ]
  },
  {
   "cell_type": "markdown",
   "metadata": {},
   "source": [
    "# sample"
   ]
  },
  {
   "cell_type": "code",
   "execution_count": 3,
   "metadata": {},
   "outputs": [],
   "source": [
    "def sample_neg(num_neg, num_all, cond_sets):\n",
    "    tmp = []\n",
    "    for _ in range(num_neg):\n",
    "        j = np.random.randint(num_all)\n",
    "        while True:\n",
    "            if j not in cond_sets:\n",
    "                break\n",
    "            j = np.random.randint(num_all)\n",
    "        tmp.append([j])\n",
    "    return tmp\n",
    "\n",
    "# def sample_dis(nu, cond_sets, nfi, num_all, mup, mdown):\n",
    "#     num_negatives = 2\n",
    "#     item_up, item_down, tmp = [], [], []\n",
    "#     nu_keys, nu_values = nu[0], nu[1]\n",
    "#     cand_up = nu_keys[nu_values>=nfi+mup]\n",
    "#     cand_down = nu_keys[nu_values<=nfi-mdown]\n",
    "#     for j in cand_up:\n",
    "#         if len(item_up)>=num_negatives:\n",
    "#             break\n",
    "#         cond = True\n",
    "#         for cond_set in cond_sets:\n",
    "#             cond = cond and j not in cond_set\n",
    "#         if cond and len(item_up)<num_negatives:\n",
    "#             item_up.append([j])\n",
    "#     for j in cand_down:\n",
    "#         if len(item_down)>=num_negatives:\n",
    "#             break\n",
    "#         cond = True\n",
    "#         for cond_set in cond_sets:\n",
    "#             cond = cond and j not in cond_set\n",
    "#         if cond and len(item_down)<num_negatives:\n",
    "#             item_down.append([j])\n",
    "#     n_up, n_down = len(item_up), len(item_down)\n",
    "# #     t = time()\n",
    "#     tmp = item_up + sample_neg(num_negatives-n_up, num_all, cond_sets)\\\n",
    "#         + item_down + sample_neg(num_negatives-n_down, num_all, cond_sets)\n",
    "# #     print('add {}s'.format(time()-t))\n",
    "#     return (tmp, n_up, n_down)"
   ]
  },
  {
   "cell_type": "code",
   "execution_count": 9,
   "metadata": {},
   "outputs": [
    {
     "name": "stdout",
     "output_type": "stream",
     "text": [
      "34.8s\n"
     ]
    }
   ],
   "source": [
    "num_items = 30621\n",
    "num_negative = 10\n",
    "negative_data, result = [], []\n",
    "pool = Pool(8)\n",
    "t = time()\n",
    "for u, i in positive_data:\n",
    "    negative_data.append(sample_neg(num_negative, num_items, train_dict[u]))\n",
    "#     result.append(pool.apply_async(sample_neg, (num_negative, num_items, train_dict[u])))\n",
    "# pool.close()\n",
    "# pool.join()\n",
    "# for idx, res in enumerate(result):\n",
    "#     tmp = res.get()\n",
    "#     negative_data.append(tmp)\n",
    "\n",
    "print('{:.1f}s'.format(time()-t))"
   ]
  },
  {
   "cell_type": "code",
   "execution_count": 10,
   "metadata": {},
   "outputs": [
    {
     "name": "stdout",
     "output_type": "stream",
     "text": [
      "[[15977], [8080], [824], [24462], [7091], [4157], [29060], [15078], [25496], [630]] \n",
      " [[21903], [21876], [16981], [15554], [19085], [12610], [5406], [1533], [20662], [20084]]\n"
     ]
    }
   ],
   "source": [
    "print(negative_data[2738], '\\n', negative_data[12])"
   ]
  },
  {
   "cell_type": "code",
   "execution_count": 11,
   "metadata": {},
   "outputs": [
    {
     "name": "stdout",
     "output_type": "stream",
     "text": [
      "[[8982], [4176], [28998], [24930], [6750], [21876], [16178], [15297], [56], [24368]] \n",
      " [[21903], [21876], [16981], [15554], [19085], [12610], [5406], [1533], [20662], [20084]]\n"
     ]
    }
   ],
   "source": [
    "print(negative_data[2738], '\\n', negative_data[12])"
   ]
  },
  {
   "cell_type": "code",
   "execution_count": 10,
   "metadata": {},
   "outputs": [
    {
     "name": "stdout",
     "output_type": "stream",
     "text": [
      "sample pos: 220688.0, neg: 366672.0\n",
      "149.5s\n"
     ]
    }
   ],
   "source": [
    "num_items, num_negatives = 18995, 10\n",
    "negative_data = []\n",
    "num_friend_interaction = np.load('../data/{}/num_friend_interaction.npy'.format(data_name)).item()\n",
    "pos_mask, neg_mask = np.zeros([len(positive_data), num_negatives]), np.zeros([len(positive_data), num_negatives])\n",
    "pool_p, pool_n = Pool(8), Pool(8)\n",
    "result_p, result_n = [], []\n",
    "record_pn = []\n",
    "t = time()\n",
    "for idx, (u, i) in enumerate(positive_data):\n",
    "    nu = num_friend_interaction[u]\n",
    "    friend_buy = nu[0][nu[1] > 0]\n",
    "    friend_notbuy = nu[0][nu[1] == 0]\n",
    "    if i in friend_buy:\n",
    "        result_p.append(pool_p.apply_async(sample_neg, (num_negatives, num_items, [train_dict[u], friend_buy])))\n",
    "#         tmp = sample_neg(num_negatives, num_items, [user_consumed_items[u], friend_buy])\n",
    "        pos_mask[idx] = np.ones(num_negatives)\n",
    "        record_pn.append(1)\n",
    "    else:\n",
    "        result_n.append(pool_n.apply_async(sample_neg, (num_negatives, num_items, [train_dict[u], friend_notbuy])))\n",
    "#         tmp = sample_neg(num_negatives, num_items, [user_consumed_items[u], friend_notbuy])\n",
    "        neg_mask[idx] = np.ones(num_negatives)\n",
    "        record_pn.append(0)\n",
    "pool_p.close()\n",
    "pool_p.join()\n",
    "pool_n.close()\n",
    "pool_n.join()\n",
    "for r in record_pn:\n",
    "    if r == 1:\n",
    "        tmp = result_p.pop().get()\n",
    "    else:\n",
    "        tmp = result_n.pop().get()\n",
    "    negative_data.append(tmp)\n",
    "print('sample pos: {}, neg: {}'.format(np.sum(pos_mask[:, 0]), np.sum(neg_mask[:, 0])))\n",
    "print('{:.1f}s'.format(time()-t))"
   ]
  },
  {
   "cell_type": "code",
   "execution_count": 61,
   "metadata": {},
   "outputs": [
    {
     "data": {
      "text/plain": [
       "(array([199811.,  23778., 363771.]),\n",
       " array([0, 1, 2, 3]),\n",
       " <a list of 3 Patch objects>)"
      ]
     },
     "execution_count": 61,
     "metadata": {},
     "output_type": "execute_result"
    },
    {
     "data": {
      "image/png": "[encoded data removed]",
      "text/plain": [
       "<Figure size 432x288 with 1 Axes>"
      ]
     },
     "metadata": {
      "needs_background": "light"
     },
     "output_type": "display_data"
    }
   ],
   "source": [
    "plt.hist(up_list, [0, 1, 2, 3])"
   ]
  },
  {
   "cell_type": "code",
   "execution_count": 22,
   "metadata": {},
   "outputs": [
    {
     "data": {
      "text/plain": [
       "(array([493527.,      0.,  93833.]),\n",
       " array([0, 1, 2, 3]),\n",
       " <a list of 3 Patch objects>)"
      ]
     },
     "execution_count": 22,
     "metadata": {},
     "output_type": "execute_result"
    },
    {
     "data": {
      "image/png": "[encoded data removed]",
      "text/plain": [
       "<Figure size 432x288 with 1 Axes>"
      ]
     },
     "metadata": {
      "needs_background": "light"
     },
     "output_type": "display_data"
    }
   ],
   "source": [
    "plt.hist(down_list, [0, 1, 2, 3])"
   ]
  },
  {
   "cell_type": "code",
   "execution_count": 28,
   "metadata": {},
   "outputs": [
    {
     "data": {
      "text/plain": [
       "0.28697814000000005"
      ]
     },
     "execution_count": 28,
     "metadata": {},
     "output_type": "execute_result"
    }
   ],
   "source": [
    "0.6*(0.9**7)"
   ]
  }
 ],
 "metadata": {
  "kernelspec": {
   "display_name": "Python 3",
   "language": "python",
   "name": "python3"
  },
  "language_info": {
   "codemirror_mode": {
    "name": "ipython",
    "version": 3
   },
   "file_extension": ".py",
   "mimetype": "text/x-python",
   "name": "python",
   "nbconvert_exporter": "python",
   "pygments_lexer": "ipython3",
   "version": "3.6.10"
  }
 },
 "nbformat": 4,
 "nbformat_minor": 2
}
